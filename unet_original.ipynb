{
 "cells": [
  {
   "cell_type": "markdown",
   "metadata": {
    "_uuid": "1629debb33bf38e7aec59f9352a8101a0bd9d627"
   },
   "source": [
    "add validation, scoring"
   ]
  },
  {
   "cell_type": "markdown",
   "metadata": {
    "_uuid": "1b0a8a3b377172743a038bab1a2b0037fded6dfc"
   },
   "source": [
    "# load packages"
   ]
  },
  {
   "cell_type": "code",
   "execution_count": 1,
   "metadata": {
    "_uuid": "d5fde42cea10ed321db48bdbf98c2ff5bb631624"
   },
   "outputs": [
    {
     "name": "stderr",
     "output_type": "stream",
     "text": [
      "Using TensorFlow backend.\n"
     ]
    }
   ],
   "source": [
    "import os\n",
    "from skimage.data import imread\n",
    "from skimage.morphology import label\n",
    "import pandas as pd\n",
    "import numpy as np\n",
    "from keras.models import *\n",
    "from keras.layers import *\n",
    "from keras.optimizers import *\n",
    "import random\n",
    "from sklearn.model_selection import StratifiedKFold\n",
    "from sklearn.model_selection import train_test_split\n",
    "\n",
    "input_dir = '../input/'\n",
    "train_img_dir = '../input/train_v2/'\n",
    "test_img_dir = '../input/test_v2/'"
   ]
  },
  {
   "cell_type": "markdown",
   "metadata": {
    "_uuid": "ca11fbb4762465b3f39fc57fe7b8ea03b8364239"
   },
   "source": [
    "# load train_dataframe"
   ]
  },
  {
   "cell_type": "code",
   "execution_count": 2,
   "metadata": {
    "_uuid": "a3c704fb07cdfcb1d8222c5c120ede71cfb40a9e"
   },
   "outputs": [],
   "source": [
    "train_df = pd.read_csv(input_dir+'train_ship_segmentations_v2.csv')"
   ]
  },
  {
   "cell_type": "code",
   "execution_count": 3,
   "metadata": {
    "_uuid": "a031f04ead0c80b2e89a66a2f02a2b69cb57e15e"
   },
   "outputs": [
    {
     "data": {
      "text/html": [
       "<div>\n",
       "<style scoped>\n",
       "    .dataframe tbody tr th:only-of-type {\n",
       "        vertical-align: middle;\n",
       "    }\n",
       "\n",
       "    .dataframe tbody tr th {\n",
       "        vertical-align: top;\n",
       "    }\n",
       "\n",
       "    .dataframe thead th {\n",
       "        text-align: right;\n",
       "    }\n",
       "</style>\n",
       "<table border=\"1\" class=\"dataframe\">\n",
       "  <thead>\n",
       "    <tr style=\"text-align: right;\">\n",
       "      <th></th>\n",
       "      <th>ImageId</th>\n",
       "      <th>EncodedPixels</th>\n",
       "    </tr>\n",
       "  </thead>\n",
       "  <tbody>\n",
       "    <tr>\n",
       "      <th>0</th>\n",
       "      <td>00003e153.jpg</td>\n",
       "      <td>NaN</td>\n",
       "    </tr>\n",
       "    <tr>\n",
       "      <th>1</th>\n",
       "      <td>0001124c7.jpg</td>\n",
       "      <td>NaN</td>\n",
       "    </tr>\n",
       "    <tr>\n",
       "      <th>2</th>\n",
       "      <td>000155de5.jpg</td>\n",
       "      <td>264661 17 265429 33 266197 33 266965 33 267733...</td>\n",
       "    </tr>\n",
       "    <tr>\n",
       "      <th>3</th>\n",
       "      <td>000194a2d.jpg</td>\n",
       "      <td>360486 1 361252 4 362019 5 362785 8 363552 10 ...</td>\n",
       "    </tr>\n",
       "    <tr>\n",
       "      <th>4</th>\n",
       "      <td>000194a2d.jpg</td>\n",
       "      <td>51834 9 52602 9 53370 9 54138 9 54906 9 55674 ...</td>\n",
       "    </tr>\n",
       "  </tbody>\n",
       "</table>\n",
       "</div>"
      ],
      "text/plain": [
       "         ImageId                                      EncodedPixels\n",
       "0  00003e153.jpg                                                NaN\n",
       "1  0001124c7.jpg                                                NaN\n",
       "2  000155de5.jpg  264661 17 265429 33 266197 33 266965 33 267733...\n",
       "3  000194a2d.jpg  360486 1 361252 4 362019 5 362785 8 363552 10 ...\n",
       "4  000194a2d.jpg  51834 9 52602 9 53370 9 54138 9 54906 9 55674 ..."
      ]
     },
     "execution_count": 3,
     "metadata": {},
     "output_type": "execute_result"
    }
   ],
   "source": [
    "train_df.head()"
   ]
  },
  {
   "cell_type": "code",
   "execution_count": 4,
   "metadata": {
    "_uuid": "e89c185d7cda1e9cf4aa994ccbff2d149301f315"
   },
   "outputs": [
    {
     "data": {
      "text/plain": [
       "(231723, 2)"
      ]
     },
     "execution_count": 4,
     "metadata": {},
     "output_type": "execute_result"
    }
   ],
   "source": [
    "train_df.shape"
   ]
  },
  {
   "cell_type": "markdown",
   "metadata": {
    "_uuid": "29fba13e2f013f979474f7a442050377a6594594"
   },
   "source": [
    "# remove 100000 non-ship images"
   ]
  },
  {
   "cell_type": "code",
   "execution_count": 5,
   "metadata": {
    "_uuid": "2897043641266d32ece48820784acd7dd3fc1b53"
   },
   "outputs": [],
   "source": [
    "def area_isnull(x):\n",
    "    if x == x:\n",
    "        return 0\n",
    "    else:\n",
    "        return 1"
   ]
  },
  {
   "cell_type": "code",
   "execution_count": 6,
   "metadata": {
    "_uuid": "bebad7619e6669ba992059d5e5ce050618353991"
   },
   "outputs": [],
   "source": [
    "train_df['isnan'] = train_df['EncodedPixels'].apply(area_isnull)"
   ]
  },
  {
   "cell_type": "code",
   "execution_count": 7,
   "metadata": {
    "_uuid": "1da4e42ed00a6672284ec11c35c01f12ae1cc2cc"
   },
   "outputs": [
    {
     "data": {
      "text/plain": [
       "1    150000\n",
       "0     81723\n",
       "Name: isnan, dtype: int64"
      ]
     },
     "execution_count": 7,
     "metadata": {},
     "output_type": "execute_result"
    }
   ],
   "source": [
    "train_df['isnan'].value_counts()"
   ]
  },
  {
   "cell_type": "code",
   "execution_count": 8,
   "metadata": {
    "_uuid": "2fcfdcc32083d84aa16349e2b8161b11589a5fff"
   },
   "outputs": [],
   "source": [
    "train_df = train_df.sort_values('isnan', ascending=False)\n",
    "train_df = train_df.iloc[100000:]"
   ]
  },
  {
   "cell_type": "code",
   "execution_count": 9,
   "metadata": {
    "_uuid": "b77a9e8ccde826913db1b59e9c4442c8e659f5de"
   },
   "outputs": [
    {
     "data": {
      "text/plain": [
       "0    81723\n",
       "1    50000\n",
       "Name: isnan, dtype: int64"
      ]
     },
     "execution_count": 9,
     "metadata": {},
     "output_type": "execute_result"
    }
   ],
   "source": [
    "train_df['isnan'].value_counts()"
   ]
  },
  {
   "cell_type": "markdown",
   "metadata": {
    "_uuid": "7dd6933eff3da6c5cc252906ea0ba62a6a6dafde"
   },
   "source": [
    "# calculate ship area and group by ImageId"
   ]
  },
  {
   "cell_type": "code",
   "execution_count": 10,
   "metadata": {
    "_uuid": "ebf3be677dccbf2355796ddc36d296c7b63553d4"
   },
   "outputs": [],
   "source": [
    "def rle_to_mask(rle_list, SHAPE):\n",
    "    tmp_flat = np.zeros(SHAPE[0]*SHAPE[1])\n",
    "    if len(rle_list) == 1:\n",
    "        mask = np.reshape(tmp_flat, SHAPE).T\n",
    "    else:\n",
    "        strt = rle_list[::2]\n",
    "        length = rle_list[1::2]\n",
    "        for i,v in zip(strt,length):\n",
    "            tmp_flat[(int(i)-1):(int(i)-1)+int(v)] = 255\n",
    "        mask = np.reshape(tmp_flat, SHAPE).T\n",
    "    return mask"
   ]
  },
  {
   "cell_type": "code",
   "execution_count": 11,
   "metadata": {
    "_uuid": "e77d93860fed8f91e81722276b899df941bdb57b"
   },
   "outputs": [],
   "source": [
    "def calc_area_for_rle(rle_str):\n",
    "    rle_list = str(rle_str).split()\n",
    "    mask = rle_to_mask(rle_list, (768,768))\n",
    "    area = mask.sum()/255.0\n",
    "    return area"
   ]
  },
  {
   "cell_type": "code",
   "execution_count": 12,
   "metadata": {
    "_uuid": "5ff2925d082443d18bc15d3db1926f51317c9d84"
   },
   "outputs": [],
   "source": [
    "train_df['area'] = train_df['EncodedPixels'].apply(calc_area_for_rle)"
   ]
  },
  {
   "cell_type": "code",
   "execution_count": 14,
   "metadata": {
    "_uuid": "a86a48c0004a661d0c2500df5d204372a64e14e3"
   },
   "outputs": [],
   "source": [
    "train_gp = train_df.groupby('ImageId').sum()\n",
    "train_gp = train_gp.reset_index()"
   ]
  },
  {
   "cell_type": "code",
   "execution_count": 18,
   "metadata": {
    "_uuid": "425648a0cc5a23730fdfb678a95c60b3a8a6544f"
   },
   "outputs": [
    {
     "data": {
      "text/plain": [
       "(131723, 92556)"
      ]
     },
     "execution_count": 18,
     "metadata": {},
     "output_type": "execute_result"
    }
   ],
   "source": [
    "# There are images with the same ImageID\n",
    "len(train_df),len(np.unique(train_df['ImageId']))"
   ]
  },
  {
   "cell_type": "code",
   "execution_count": 15,
   "metadata": {
    "_uuid": "79d82936f70a65e5a8e74adf1506c91d6d9d519f"
   },
   "outputs": [
    {
     "data": {
      "text/html": [
       "<div>\n",
       "<style scoped>\n",
       "    .dataframe tbody tr th:only-of-type {\n",
       "        vertical-align: middle;\n",
       "    }\n",
       "\n",
       "    .dataframe tbody tr th {\n",
       "        vertical-align: top;\n",
       "    }\n",
       "\n",
       "    .dataframe thead th {\n",
       "        text-align: right;\n",
       "    }\n",
       "</style>\n",
       "<table border=\"1\" class=\"dataframe\">\n",
       "  <thead>\n",
       "    <tr style=\"text-align: right;\">\n",
       "      <th></th>\n",
       "      <th>ImageId</th>\n",
       "      <th>isnan</th>\n",
       "      <th>area</th>\n",
       "    </tr>\n",
       "  </thead>\n",
       "  <tbody>\n",
       "    <tr>\n",
       "      <th>0</th>\n",
       "      <td>000155de5.jpg</td>\n",
       "      <td>0</td>\n",
       "      <td>3388.0</td>\n",
       "    </tr>\n",
       "    <tr>\n",
       "      <th>1</th>\n",
       "      <td>000194a2d.jpg</td>\n",
       "      <td>0</td>\n",
       "      <td>1460.0</td>\n",
       "    </tr>\n",
       "    <tr>\n",
       "      <th>2</th>\n",
       "      <td>0001b1832.jpg</td>\n",
       "      <td>1</td>\n",
       "      <td>0.0</td>\n",
       "    </tr>\n",
       "    <tr>\n",
       "      <th>3</th>\n",
       "      <td>00021ddc3.jpg</td>\n",
       "      <td>0</td>\n",
       "      <td>1176.0</td>\n",
       "    </tr>\n",
       "    <tr>\n",
       "      <th>4</th>\n",
       "      <td>0002756f7.jpg</td>\n",
       "      <td>0</td>\n",
       "      <td>408.0</td>\n",
       "    </tr>\n",
       "  </tbody>\n",
       "</table>\n",
       "</div>"
      ],
      "text/plain": [
       "         ImageId  isnan    area\n",
       "0  000155de5.jpg      0  3388.0\n",
       "1  000194a2d.jpg      0  1460.0\n",
       "2  0001b1832.jpg      1     0.0\n",
       "3  00021ddc3.jpg      0  1176.0\n",
       "4  0002756f7.jpg      0   408.0"
      ]
     },
     "execution_count": 15,
     "metadata": {},
     "output_type": "execute_result"
    }
   ],
   "source": [
    "train_gp.head()"
   ]
  },
  {
   "cell_type": "markdown",
   "metadata": {
    "_uuid": "71f5b59a92997f5e8b41e833d2f06d32bdd6b076"
   },
   "source": [
    "# set class of ship area"
   ]
  },
  {
   "cell_type": "code",
   "execution_count": 19,
   "metadata": {
    "_uuid": "2a34c342c77899db2965053a86a17f814332075f"
   },
   "outputs": [],
   "source": [
    "def calc_class(area):\n",
    "    area = area / (768*768)\n",
    "    if area == 0:\n",
    "        return 0\n",
    "    elif area < 0.005:\n",
    "        return 1\n",
    "    elif area < 0.015:\n",
    "        return 2\n",
    "    elif area < 0.025:\n",
    "        return 3\n",
    "    elif area < 0.035:\n",
    "        return 4\n",
    "    elif area < 0.045:\n",
    "        return 5\n",
    "    else:\n",
    "        return 6"
   ]
  },
  {
   "cell_type": "code",
   "execution_count": 20,
   "metadata": {
    "_uuid": "83978353dab607e852973f2d20f1aaf33b6a1a56"
   },
   "outputs": [],
   "source": [
    "train_gp['class'] = train_gp['area'].apply(calc_class)"
   ]
  },
  {
   "cell_type": "code",
   "execution_count": 21,
   "metadata": {
    "_uuid": "e6b44bff8284f678684e808c816b9b317754cc3b"
   },
   "outputs": [
    {
     "data": {
      "text/plain": [
       "0    50000\n",
       "1    29315\n",
       "2     9225\n",
       "3     2644\n",
       "4     1122\n",
       "5      181\n",
       "6       69\n",
       "Name: class, dtype: int64"
      ]
     },
     "execution_count": 21,
     "metadata": {},
     "output_type": "execute_result"
    }
   ],
   "source": [
    "train_gp['class'].value_counts()"
   ]
  },
  {
   "cell_type": "markdown",
   "metadata": {
    "_uuid": "8f541afa0e92409130af76771cdb85e3fe4bcc80"
   },
   "source": [
    "# split train-set and validation-set (stratified: area class)"
   ]
  },
  {
   "cell_type": "code",
   "execution_count": 22,
   "metadata": {
    "_uuid": "50ab7af05bcb118ce15f6d21e5b954c95b01b6ec"
   },
   "outputs": [],
   "source": [
    "train, val = train_test_split(train_gp, test_size=0.01, stratify=train_gp['class'].tolist())"
   ]
  },
  {
   "cell_type": "code",
   "execution_count": 23,
   "metadata": {
    "_uuid": "041674775a2408dc377c3685804dd8ef68709c57"
   },
   "outputs": [],
   "source": [
    "train_isship_list = train['ImageId'][train['isnan']==0].tolist()\n",
    "train_isship_list = random.sample(train_isship_list, len(train_isship_list))\n",
    "train_nanship_list = train['ImageId'][train['isnan']==1].tolist()\n",
    "train_nanship_list = random.sample(train_nanship_list, len(train_nanship_list))"
   ]
  },
  {
   "cell_type": "code",
   "execution_count": 30,
   "metadata": {
    "_uuid": "dbe963f63f23535ebc4ead334d468ad114fc145f"
   },
   "outputs": [],
   "source": [
    "val_isship_list = val['ImageId'][val['isnan']==0].tolist()\n",
    "val_isship_list = random.sample(val_isship_list, len(val_isship_list))\n",
    "val_nanship_list = val['ImageId'][val['isnan']==1].tolist()\n",
    "val_nanship_list = random.sample(val_nanship_list, len(val_nanship_list))"
   ]
  },
  {
   "cell_type": "code",
   "execution_count": 31,
   "metadata": {
    "_uuid": "b9fab1f00b65d54cbb0be5e0ec761461eda35109"
   },
   "outputs": [
    {
     "data": {
      "text/plain": [
       "(42130, 49500, 500, 500)"
      ]
     },
     "execution_count": 31,
     "metadata": {},
     "output_type": "execute_result"
    }
   ],
   "source": [
    "len(train_isship_list),len(train_nanship_list),len(val_nanship_list),len(val_nanship_list)"
   ]
  },
  {
   "cell_type": "markdown",
   "metadata": {
    "_uuid": "460b800e8115caed87dc6d261d86e530482abae3"
   },
   "source": [
    "# create data generator\n",
    "Make the ratio of is-ship images and nan-ship images  equal"
   ]
  },
  {
   "cell_type": "code",
   "execution_count": 25,
   "metadata": {
    "_uuid": "dbd3143b1cce5c089a5fcab70640aeb2f7f35917"
   },
   "outputs": [],
   "source": [
    "def mygenerator(isship_list, nanship_list, batch_size, cap_num):\n",
    "    train_img_names_nanship = isship_list[:cap_num]\n",
    "    train_img_names_isship = nanship_list[:cap_num]\n",
    "    k = 0\n",
    "    while True:\n",
    "        batch_img_names_nan = train_img_names_nanship[k:k+batch_size//2]\n",
    "        batch_img_names_is = train_img_names_isship[k:k+batch_size//2]\n",
    "        batch_img = []\n",
    "        batch_mask = []\n",
    "        for name in batch_img_names_nan:\n",
    "            tmp_img = imread(train_img_dir + name)\n",
    "            tmp_img = np.mean(tmp_img, axis=2, keepdims=True)\n",
    "            batch_img.append(tmp_img)\n",
    "            mask_list = train_df['EncodedPixels'][train_df['ImageId'] == name].tolist()\n",
    "            one_mask = np.zeros((768, 768, 1))\n",
    "            for item in mask_list:\n",
    "                rle_list = str(item).split()\n",
    "                tmp_mask = rle_to_mask(rle_list, (768, 768))\n",
    "                one_mask[:,:,0] += tmp_mask\n",
    "            batch_mask.append(one_mask)\n",
    "        for name in batch_img_names_is:\n",
    "            tmp_img = imread(train_img_dir + name)\n",
    "            tmp_img = np.mean(tmp_img, axis=2, keepdims=True)\n",
    "            batch_img.append(tmp_img)\n",
    "            mask_list = train_df['EncodedPixels'][train_df['ImageId'] == name].tolist()\n",
    "            one_mask = np.zeros((768, 768, 1))\n",
    "            for item in mask_list:\n",
    "                rle_list = str(item).split()\n",
    "                tmp_mask = rle_to_mask(rle_list, (768, 768))\n",
    "                one_mask[:,:,0] += tmp_mask\n",
    "            batch_mask.append(one_mask)\n",
    "        img = np.stack(batch_img, axis=0)\n",
    "        mask = np.stack(batch_mask, axis=0)\n",
    "        img = img / 255.0\n",
    "        mask = mask / 255.0\n",
    "        k += batch_size//2\n",
    "        yield img, mask"
   ]
  },
  {
   "cell_type": "code",
   "execution_count": 44,
   "metadata": {
    "_uuid": "480a5e01e3350f83127b181ed90217c4bec0c7f2"
   },
   "outputs": [],
   "source": [
    "BATCH_SIZE = 4\n",
    "CAP_NUM = min(len(train_isship_list),len(train_nanship_list))\n",
    "CAP_NUM_VALID = min(len(val_isship_list),len(val_nanship_list))\n",
    "datagen = mygenerator(train_isship_list, train_nanship_list, batch_size=BATCH_SIZE, cap_num=CAP_NUM)\n",
    "valid_datagen = mygenerator(val_isship_list, val_nanship_list, batch_size=BATCH_SIZE, cap_num=CAP_NUM)\n"
   ]
  },
  {
   "cell_type": "markdown",
   "metadata": {
    "_uuid": "103ddaa8ffbfbf2a4c6a20e30e289b14519fa5bb"
   },
   "source": [
    "# set model"
   ]
  },
  {
   "cell_type": "code",
   "execution_count": 45,
   "metadata": {
    "_uuid": "4b6b9487a40d3442c47d39d22693255bf4a5722f"
   },
   "outputs": [],
   "source": [
    "inputs = Input(shape=(768,768,1))\n",
    "conv1 = Conv2D(16, 3, activation='relu', padding='same', kernel_initializer='he_normal')(inputs)\n",
    "conv1 = BatchNormalization()(conv1)\n",
    "conv1 = Conv2D(16, 3, activation='relu', padding='same', kernel_initializer='he_normal')(conv1)\n",
    "conv1 = BatchNormalization()(conv1)\n",
    "conv1 = Dropout(0.4)(conv1)\n",
    "pool1 = MaxPooling2D(pool_size=(2,2))(conv1)\n",
    "conv2 = Conv2D(32, 3, activation='relu', padding='same', kernel_initializer='he_normal')(pool1)\n",
    "conv2 = BatchNormalization()(conv2)\n",
    "conv2 = Conv2D(32, 3, activation='relu', padding='same', kernel_initializer='he_normal')(conv2)\n",
    "conv2 = BatchNormalization()(conv2)\n",
    "conv2 = Dropout(0.4)(conv2)\n",
    "pool2 = MaxPooling2D(pool_size=(2,2))(conv2)\n",
    "conv3 = Conv2D(64, 3, activation='relu', padding='same', kernel_initializer='he_normal')(pool2)\n",
    "conv3 = BatchNormalization()(conv3)\n",
    "conv3 = Conv2D(64, 3, activation='relu', padding='same', kernel_initializer='he_normal')(conv3)\n",
    "conv3 = BatchNormalization()(conv3)\n",
    "conv3 = Dropout(0.4)(conv3)\n",
    "pool3 = MaxPooling2D(pool_size=(2,2))(conv3)\n",
    "conv4 = Conv2D(128, 3, activation='relu', padding='same', kernel_initializer='he_normal')(pool3)\n",
    "conv4 = BatchNormalization()(conv4)\n",
    "conv4 = Conv2D(128, 3, activation='relu', padding='same', kernel_initializer='he_normal')(conv4)\n",
    "conv4 = BatchNormalization()(conv4)\n",
    "conv4 = Dropout(0.4)(conv4)\n",
    "pool4 = MaxPooling2D(pool_size=(2,2))(conv4)\n",
    "conv5 = Conv2D(256, 3, activation='relu', padding='same', kernel_initializer='he_normal')(pool4)\n",
    "conv5 = BatchNormalization()(conv5)\n",
    "conv5 = Conv2D(256, 3, activation='relu', padding='same', kernel_initializer='he_normal')(conv5)\n",
    "conv5 = BatchNormalization()(conv5)\n",
    "upcv6 = UpSampling2D(size=(2,2))(conv5)\n",
    "upcv6 = Conv2D(128, 2, activation='relu', padding='same', kernel_initializer='he_normal')(upcv6)\n",
    "upcv6 = BatchNormalization()(upcv6)\n",
    "mrge6 = concatenate([conv4, upcv6], axis=3)\n",
    "conv6 = Conv2D(128, 3, activation='relu', padding='same', kernel_initializer='he_normal')(mrge6)\n",
    "conv6 = BatchNormalization()(conv6)\n",
    "conv6 = Conv2D(128, 3, activation='relu', padding='same', kernel_initializer='he_normal')(conv6)\n",
    "conv6 = BatchNormalization()(conv6)\n",
    "upcv7 = UpSampling2D(size=(2,2))(conv6)\n",
    "upcv7 = Conv2D(64, 2, activation='relu', padding='same', kernel_initializer='he_normal')(upcv7)\n",
    "upcv7 = BatchNormalization()(upcv7)\n",
    "mrge7 = concatenate([conv3, upcv7], axis=3)\n",
    "conv7 = Conv2D(64, 3, activation='relu', padding='same', kernel_initializer='he_normal')(mrge7)\n",
    "conv7 = BatchNormalization()(conv7)\n",
    "conv7 = Conv2D(64, 3, activation='relu', padding='same', kernel_initializer='he_normal')(conv7)\n",
    "conv7 = BatchNormalization()(conv7)\n",
    "upcv8 = UpSampling2D(size=(2,2))(conv7)\n",
    "upcv8 = Conv2D(32, 2, activation='relu', padding='same', kernel_initializer='he_normal')(upcv8)\n",
    "upcv8 = BatchNormalization()(upcv8)\n",
    "mrge8 = concatenate([conv2, upcv8], axis=3)\n",
    "conv8 = Conv2D(32, 3, activation='relu', padding='same', kernel_initializer='he_normal')(mrge8)\n",
    "conv8 = BatchNormalization()(conv8)\n",
    "conv8 = Conv2D(32, 3, activation='relu', padding='same', kernel_initializer='he_normal')(conv8)\n",
    "conv8 = BatchNormalization()(conv8)\n",
    "upcv9 = UpSampling2D(size=(2,2))(conv8)\n",
    "upcv9 = Conv2D(16, 2, activation='relu', padding='same', kernel_initializer='he_normal')(upcv9)\n",
    "upcv9 = BatchNormalization()(upcv9)\n",
    "mrge9 = concatenate([conv1, upcv9], axis=3)\n",
    "conv9 = Conv2D(16, 3, activation='relu', padding='same', kernel_initializer='he_normal')(mrge9)\n",
    "conv9 = BatchNormalization()(conv9)\n",
    "conv9 = Conv2D(16, 3, activation='relu', padding='same', kernel_initializer='he_normal')(conv9)\n",
    "conv9 = BatchNormalization()(conv9)\n",
    "conv10 = Conv2D(1, 1, activation='sigmoid')(conv9)\n",
    "model = Model(inputs=inputs, outputs=conv10)"
   ]
  },
  {
   "cell_type": "code",
   "execution_count": 46,
   "metadata": {
    "_uuid": "72167df2bd5af4e2775b33606e0d50bf04b5aeee",
    "scrolled": false
   },
   "outputs": [
    {
     "name": "stdout",
     "output_type": "stream",
     "text": [
      "__________________________________________________________________________________________________\n",
      "Layer (type)                    Output Shape         Param #     Connected to                     \n",
      "==================================================================================================\n",
      "input_3 (InputLayer)            (None, 768, 768, 1)  0                                            \n",
      "__________________________________________________________________________________________________\n",
      "conv2d_47 (Conv2D)              (None, 768, 768, 16) 160         input_3[0][0]                    \n",
      "__________________________________________________________________________________________________\n",
      "batch_normalization_45 (BatchNo (None, 768, 768, 16) 64          conv2d_47[0][0]                  \n",
      "__________________________________________________________________________________________________\n",
      "conv2d_48 (Conv2D)              (None, 768, 768, 16) 2320        batch_normalization_45[0][0]     \n",
      "__________________________________________________________________________________________________\n",
      "batch_normalization_46 (BatchNo (None, 768, 768, 16) 64          conv2d_48[0][0]                  \n",
      "__________________________________________________________________________________________________\n",
      "dropout_9 (Dropout)             (None, 768, 768, 16) 0           batch_normalization_46[0][0]     \n",
      "__________________________________________________________________________________________________\n",
      "max_pooling2d_9 (MaxPooling2D)  (None, 384, 384, 16) 0           dropout_9[0][0]                  \n",
      "__________________________________________________________________________________________________\n",
      "conv2d_49 (Conv2D)              (None, 384, 384, 32) 4640        max_pooling2d_9[0][0]            \n",
      "__________________________________________________________________________________________________\n",
      "batch_normalization_47 (BatchNo (None, 384, 384, 32) 128         conv2d_49[0][0]                  \n",
      "__________________________________________________________________________________________________\n",
      "conv2d_50 (Conv2D)              (None, 384, 384, 32) 9248        batch_normalization_47[0][0]     \n",
      "__________________________________________________________________________________________________\n",
      "batch_normalization_48 (BatchNo (None, 384, 384, 32) 128         conv2d_50[0][0]                  \n",
      "__________________________________________________________________________________________________\n",
      "dropout_10 (Dropout)            (None, 384, 384, 32) 0           batch_normalization_48[0][0]     \n",
      "__________________________________________________________________________________________________\n",
      "max_pooling2d_10 (MaxPooling2D) (None, 192, 192, 32) 0           dropout_10[0][0]                 \n",
      "__________________________________________________________________________________________________\n",
      "conv2d_51 (Conv2D)              (None, 192, 192, 64) 18496       max_pooling2d_10[0][0]           \n",
      "__________________________________________________________________________________________________\n",
      "batch_normalization_49 (BatchNo (None, 192, 192, 64) 256         conv2d_51[0][0]                  \n",
      "__________________________________________________________________________________________________\n",
      "conv2d_52 (Conv2D)              (None, 192, 192, 64) 36928       batch_normalization_49[0][0]     \n",
      "__________________________________________________________________________________________________\n",
      "batch_normalization_50 (BatchNo (None, 192, 192, 64) 256         conv2d_52[0][0]                  \n",
      "__________________________________________________________________________________________________\n",
      "dropout_11 (Dropout)            (None, 192, 192, 64) 0           batch_normalization_50[0][0]     \n",
      "__________________________________________________________________________________________________\n",
      "max_pooling2d_11 (MaxPooling2D) (None, 96, 96, 64)   0           dropout_11[0][0]                 \n",
      "__________________________________________________________________________________________________\n",
      "conv2d_53 (Conv2D)              (None, 96, 96, 128)  73856       max_pooling2d_11[0][0]           \n",
      "__________________________________________________________________________________________________\n",
      "batch_normalization_51 (BatchNo (None, 96, 96, 128)  512         conv2d_53[0][0]                  \n",
      "__________________________________________________________________________________________________\n",
      "conv2d_54 (Conv2D)              (None, 96, 96, 128)  147584      batch_normalization_51[0][0]     \n",
      "__________________________________________________________________________________________________\n",
      "batch_normalization_52 (BatchNo (None, 96, 96, 128)  512         conv2d_54[0][0]                  \n",
      "__________________________________________________________________________________________________\n",
      "dropout_12 (Dropout)            (None, 96, 96, 128)  0           batch_normalization_52[0][0]     \n",
      "__________________________________________________________________________________________________\n",
      "max_pooling2d_12 (MaxPooling2D) (None, 48, 48, 128)  0           dropout_12[0][0]                 \n",
      "__________________________________________________________________________________________________\n",
      "conv2d_55 (Conv2D)              (None, 48, 48, 256)  295168      max_pooling2d_12[0][0]           \n",
      "__________________________________________________________________________________________________\n",
      "batch_normalization_53 (BatchNo (None, 48, 48, 256)  1024        conv2d_55[0][0]                  \n",
      "__________________________________________________________________________________________________\n",
      "conv2d_56 (Conv2D)              (None, 48, 48, 256)  590080      batch_normalization_53[0][0]     \n",
      "__________________________________________________________________________________________________\n",
      "batch_normalization_54 (BatchNo (None, 48, 48, 256)  1024        conv2d_56[0][0]                  \n",
      "__________________________________________________________________________________________________\n",
      "up_sampling2d_9 (UpSampling2D)  (None, 96, 96, 256)  0           batch_normalization_54[0][0]     \n",
      "__________________________________________________________________________________________________\n",
      "conv2d_57 (Conv2D)              (None, 96, 96, 128)  131200      up_sampling2d_9[0][0]            \n",
      "__________________________________________________________________________________________________\n",
      "batch_normalization_55 (BatchNo (None, 96, 96, 128)  512         conv2d_57[0][0]                  \n",
      "__________________________________________________________________________________________________\n",
      "concatenate_9 (Concatenate)     (None, 96, 96, 256)  0           dropout_12[0][0]                 \n",
      "                                                                 batch_normalization_55[0][0]     \n",
      "__________________________________________________________________________________________________\n",
      "conv2d_58 (Conv2D)              (None, 96, 96, 128)  295040      concatenate_9[0][0]              \n",
      "__________________________________________________________________________________________________\n",
      "batch_normalization_56 (BatchNo (None, 96, 96, 128)  512         conv2d_58[0][0]                  \n",
      "__________________________________________________________________________________________________\n",
      "conv2d_59 (Conv2D)              (None, 96, 96, 128)  147584      batch_normalization_56[0][0]     \n",
      "__________________________________________________________________________________________________\n",
      "batch_normalization_57 (BatchNo (None, 96, 96, 128)  512         conv2d_59[0][0]                  \n",
      "__________________________________________________________________________________________________\n",
      "up_sampling2d_10 (UpSampling2D) (None, 192, 192, 128 0           batch_normalization_57[0][0]     \n",
      "__________________________________________________________________________________________________\n",
      "conv2d_60 (Conv2D)              (None, 192, 192, 64) 32832       up_sampling2d_10[0][0]           \n",
      "__________________________________________________________________________________________________\n",
      "batch_normalization_58 (BatchNo (None, 192, 192, 64) 256         conv2d_60[0][0]                  \n",
      "__________________________________________________________________________________________________\n",
      "concatenate_10 (Concatenate)    (None, 192, 192, 128 0           dropout_11[0][0]                 \n",
      "                                                                 batch_normalization_58[0][0]     \n",
      "__________________________________________________________________________________________________\n",
      "conv2d_61 (Conv2D)              (None, 192, 192, 64) 73792       concatenate_10[0][0]             \n",
      "__________________________________________________________________________________________________\n",
      "batch_normalization_59 (BatchNo (None, 192, 192, 64) 256         conv2d_61[0][0]                  \n",
      "__________________________________________________________________________________________________\n",
      "conv2d_62 (Conv2D)              (None, 192, 192, 64) 36928       batch_normalization_59[0][0]     \n",
      "__________________________________________________________________________________________________\n",
      "batch_normalization_60 (BatchNo (None, 192, 192, 64) 256         conv2d_62[0][0]                  \n",
      "__________________________________________________________________________________________________\n",
      "up_sampling2d_11 (UpSampling2D) (None, 384, 384, 64) 0           batch_normalization_60[0][0]     \n",
      "__________________________________________________________________________________________________\n",
      "conv2d_63 (Conv2D)              (None, 384, 384, 32) 8224        up_sampling2d_11[0][0]           \n",
      "__________________________________________________________________________________________________\n",
      "batch_normalization_61 (BatchNo (None, 384, 384, 32) 128         conv2d_63[0][0]                  \n",
      "__________________________________________________________________________________________________\n",
      "concatenate_11 (Concatenate)    (None, 384, 384, 64) 0           dropout_10[0][0]                 \n",
      "                                                                 batch_normalization_61[0][0]     \n",
      "__________________________________________________________________________________________________\n",
      "conv2d_64 (Conv2D)              (None, 384, 384, 32) 18464       concatenate_11[0][0]             \n",
      "__________________________________________________________________________________________________\n",
      "batch_normalization_62 (BatchNo (None, 384, 384, 32) 128         conv2d_64[0][0]                  \n",
      "__________________________________________________________________________________________________\n",
      "conv2d_65 (Conv2D)              (None, 384, 384, 32) 9248        batch_normalization_62[0][0]     \n",
      "__________________________________________________________________________________________________\n",
      "batch_normalization_63 (BatchNo (None, 384, 384, 32) 128         conv2d_65[0][0]                  \n",
      "__________________________________________________________________________________________________\n",
      "up_sampling2d_12 (UpSampling2D) (None, 768, 768, 32) 0           batch_normalization_63[0][0]     \n",
      "__________________________________________________________________________________________________\n",
      "conv2d_66 (Conv2D)              (None, 768, 768, 16) 2064        up_sampling2d_12[0][0]           \n",
      "__________________________________________________________________________________________________\n",
      "batch_normalization_64 (BatchNo (None, 768, 768, 16) 64          conv2d_66[0][0]                  \n",
      "__________________________________________________________________________________________________\n",
      "concatenate_12 (Concatenate)    (None, 768, 768, 32) 0           dropout_9[0][0]                  \n",
      "                                                                 batch_normalization_64[0][0]     \n",
      "__________________________________________________________________________________________________\n",
      "conv2d_67 (Conv2D)              (None, 768, 768, 16) 4624        concatenate_12[0][0]             \n",
      "__________________________________________________________________________________________________\n",
      "batch_normalization_65 (BatchNo (None, 768, 768, 16) 64          conv2d_67[0][0]                  \n",
      "__________________________________________________________________________________________________\n",
      "conv2d_68 (Conv2D)              (None, 768, 768, 16) 2320        batch_normalization_65[0][0]     \n",
      "__________________________________________________________________________________________________\n",
      "batch_normalization_66 (BatchNo (None, 768, 768, 16) 64          conv2d_68[0][0]                  \n",
      "__________________________________________________________________________________________________\n",
      "conv2d_69 (Conv2D)              (None, 768, 768, 1)  17          batch_normalization_66[0][0]     \n",
      "==================================================================================================\n",
      "Total params: 1,947,665\n",
      "Trainable params: 1,944,241\n",
      "Non-trainable params: 3,424\n",
      "__________________________________________________________________________________________________\n"
     ]
    }
   ],
   "source": [
    "model.summary()"
   ]
  },
  {
   "cell_type": "code",
   "execution_count": 47,
   "metadata": {
    "_uuid": "b6e3ff01b8b1239816a99efe6bfcdee2d8ca11fb",
    "scrolled": true
   },
   "outputs": [],
   "source": [
    "model.compile(optimizer = 'adam', loss = 'binary_crossentropy')"
   ]
  },
  {
   "cell_type": "markdown",
   "metadata": {
    "_uuid": "21ad2aaaca671e22521b7fd6e92763367dacf954"
   },
   "source": [
    "# training"
   ]
  },
  {
   "cell_type": "code",
   "execution_count": 48,
   "metadata": {
    "_uuid": "dafeb002585c4e4b0a4cf87a224d55f0bfd03fde"
   },
   "outputs": [],
   "source": [
    "import keras\n",
    "import numpy as np\n",
    "from matplotlib import pyplot as plt\n",
    "from IPython.display import clear_output"
   ]
  },
  {
   "cell_type": "code",
   "execution_count": 49,
   "metadata": {
    "_uuid": "ea5bd5dd639cd4577bc8731c6dfe4f7f9878a638"
   },
   "outputs": [],
   "source": [
    "class PlotLosses(keras.callbacks.Callback):\n",
    "    def on_train_begin(self, logs={}):\n",
    "        self.i = 0\n",
    "        self.x = []\n",
    "        self.losses = []\n",
    "        self.val_losses = []        \n",
    "        self.fig = plt.figure()  \n",
    "        self.logs = []\n",
    "    def on_epoch_end(self, epoch, logs={}):\n",
    "        self.logs.append(logs)\n",
    "        self.x.append(self.i)\n",
    "        self.losses.append(logs.get('loss'))\n",
    "        self.val_losses.append(logs.get('val_loss'))\n",
    "        self.i += 1\n",
    "        clear_output(wait=True)\n",
    "        plt.plot(self.x, self.losses, label=\"train loss\")\n",
    "        plt.plot(self.x, self.val_losses,label=\"validation loss\")\n",
    "        plt.legend()\n",
    "        plt.title(\"loss vs epoch in train\")\n",
    "        plt.show();    \n",
    "plot_losses = PlotLosses()"
   ]
  },
  {
   "cell_type": "code",
   "execution_count": 50,
   "metadata": {
    "_uuid": "89db399ff1ae9b94d54db1f077fb5ef488c718a7"
   },
   "outputs": [
    {
     "data": {
      "image/png": "[encoded data removed]",
      "text/plain": [
       "<Figure size 432x288 with 1 Axes>"
      ]
     },
     "metadata": {
      "needs_background": "light"
     },
     "output_type": "display_data"
    }
   ],
   "source": [
    "history = model.fit_generator(datagen, steps_per_epoch = 100, epochs = 10,validation_data=valid_datagen, \\\n",
    "                              validation_steps = 10,callbacks=[plot_losses])\n",
    "plt.show()"
   ]
  },
  {
   "cell_type": "markdown",
   "metadata": {
    "_uuid": "9995f4c4fa4f109e3f1a549a08a51264f3012572"
   },
   "source": [
    "# calculate F2 score for validation set"
   ]
  },
  {
   "cell_type": "markdown",
   "metadata": {
    "_uuid": "68cfaff71251405f626de610723c87332a442d91"
   },
   "source": [
    "- set  function of caluculating  score"
   ]
  },
  {
   "cell_type": "code",
   "execution_count": 51,
   "metadata": {
    "_uuid": "042baa7e5568598511b37fcc1ffbd839d916524e"
   },
   "outputs": [],
   "source": [
    "def calc_IoU(A, B):\n",
    "    AorB = np.logical_or(A,B).astype('int')\n",
    "    AandB = np.logical_and(A,B).astype('int')\n",
    "    IoU = AandB.sum() / AorB.sum()\n",
    "    return IoU"
   ]
  },
  {
   "cell_type": "code",
   "execution_count": 52,
   "metadata": {
    "_uuid": "155186fcb13c9998d4c141e71c8f10bdfa6c147d"
   },
   "outputs": [],
   "source": [
    "def calc_IoU_vector(A, B):\n",
    "    score_vector = []\n",
    "    IoU = calc_IoU(A, B)\n",
    "    for threshold in np.arange(0.5,1,0.05):\n",
    "        score = int(IoU > threshold)\n",
    "        score_vector.append(score)\n",
    "    return score_vector"
   ]
  },
  {
   "cell_type": "code",
   "execution_count": 53,
   "metadata": {
    "_uuid": "f56502efebd409b2eb34f2ccba96e07a6c6c7e6f"
   },
   "outputs": [],
   "source": [
    "def calc_IoU_tensor(masks_true, masks_pred):\n",
    "    true_mask_num = masks_true.shape[0]\n",
    "    pred_mask_num = masks_pred.shape[0]\n",
    "    score_tensor = np.zeros((true_mask_num, pred_mask_num, 10))\n",
    "    for true_i in range(true_mask_num):\n",
    "        for pred_i in range(pred_mask_num):\n",
    "            true_mask = masks_true[true_i]\n",
    "            pred_mask = masks_pred[pred_i]\n",
    "            score_vector = calc_IoU_vector(true_mask, pred_mask)\n",
    "            score_tensor[true_i,pred_i,:] = score_vector\n",
    "    return score_tensor"
   ]
  },
  {
   "cell_type": "code",
   "execution_count": 54,
   "metadata": {
    "_uuid": "ec3b1975edaaebef7d2e73ff484a41a1f3eec397"
   },
   "outputs": [],
   "source": [
    "def calc_F2_per_one_threshold(score_matrix):\n",
    "    tp = np.sum( score_matrix.sum(axis=1) > 0  )\n",
    "    fp = np.sum( score_matrix.sum(axis=1) == 0 )\n",
    "    fn = np.sum( score_matrix.sum(axis=0) == 0 )\n",
    "    F2 = (5*tp) / ((5*tp) + fp + (4*fn))\n",
    "    return F2"
   ]
  },
  {
   "cell_type": "code",
   "execution_count": 55,
   "metadata": {
    "_uuid": "4f9843b83986ac9abf159aa3972e5aa69aebb37c"
   },
   "outputs": [],
   "source": [
    "def calc_score_one_image(mask_true, mask_pred):\n",
    "    mask_true = mask_true.reshape(768,768)\n",
    "    mask_pred = mask_pred.reshape(768,768)\n",
    "    if mask_true.sum() == 0 and mask_pred.sum() == 0:\n",
    "        score = 1\n",
    "    elif mask_true.sum() == 0 and mask_pred.sum() != 0:\n",
    "        score = 0\n",
    "    elif mask_true.sum() != 0 and mask_pred.sum() == 0:\n",
    "        score = 0\n",
    "    else:\n",
    "        mask_label_true = label(mask_true)\n",
    "        mask_label_pred = label(mask_pred)\n",
    "        c_true = np.max(mask_label_true)\n",
    "        c_pred = np.max(mask_label_pred)\n",
    "        tmp = []\n",
    "        for k in range(c_true):\n",
    "            tmp.append(mask_label_true == k+1)\n",
    "        masks_true = np.stack(tmp, axis=0)\n",
    "        tmp = []\n",
    "        for k in range(c_pred):\n",
    "            tmp.append(mask_label_pred == k+1)\n",
    "        masks_pred = np.stack(tmp, axis=0)\n",
    "        score_tensor = calc_IoU_tensor(masks_true, masks_pred)\n",
    "        F2_t = []\n",
    "        for i in range(10):\n",
    "            F2 = calc_F2_per_one_threshold(score_tensor[:,:,i])\n",
    "            F2_t.append(F2)\n",
    "        score = np.mean(F2_t)\n",
    "    return score"
   ]
  },
  {
   "cell_type": "code",
   "execution_count": 56,
   "metadata": {
    "_uuid": "a36dac77afe53bfe329dbbe305767643f9a1e57f"
   },
   "outputs": [],
   "source": [
    "def calc_score_all_image(batch_mask_true, batch_mask_pred, threshold=0.5):\n",
    "    num = batch_mask_true.shape[0]\n",
    "    tmp = batch_mask_pred > threshold\n",
    "    batch_mask_pred = tmp.astype('int')\n",
    "    scores = list()\n",
    "    for i in range(num):\n",
    "        score = calc_score_one_image(batch_mask_true[i], batch_mask_pred[i])\n",
    "        scores.append(score)\n",
    "    return np.mean(scores)"
   ]
  },
  {
   "cell_type": "markdown",
   "metadata": {
    "_uuid": "fda7b099099d639a512a111d4431c58c3f1a4788"
   },
   "source": [
    "- set validation data"
   ]
  },
  {
   "cell_type": "code",
   "execution_count": 57,
   "metadata": {
    "_uuid": "993e4b6ef00a7c99af0e8a1c3c42122ff3cf832a"
   },
   "outputs": [],
   "source": [
    "val_list = val['ImageId'].tolist()"
   ]
  },
  {
   "cell_type": "code",
   "execution_count": 58,
   "metadata": {
    "_uuid": "ac0b96a55b1c3f3407d66768473ddeef878489be"
   },
   "outputs": [],
   "source": [
    "def create_data(image_list):\n",
    "    batch_img = []\n",
    "    batch_mask = []\n",
    "    for name in image_list:\n",
    "        tmp_img = imread(train_img_dir + name)\n",
    "        tmp_img = np.mean(tmp_img, axis=2, keepdims=True)\n",
    "        batch_img.append(tmp_img)\n",
    "        mask_list = train_df['EncodedPixels'][train_df['ImageId'] == name].tolist()\n",
    "        one_mask = np.zeros((768, 768, 1))\n",
    "        for item in mask_list:\n",
    "            rle_list = str(item).split()\n",
    "            tmp_mask = rle_to_mask(rle_list, (768, 768))\n",
    "            one_mask[:,:,0] += tmp_mask\n",
    "        batch_mask.append(one_mask)\n",
    "    img = np.stack(batch_img, axis=0)\n",
    "    mask = np.stack(batch_mask, axis=0)\n",
    "    img = img / 255.0\n",
    "    mask = mask / 255.0\n",
    "    return img, mask"
   ]
  },
  {
   "cell_type": "markdown",
   "metadata": {
    "_uuid": "16f578e4c9040d6f8ccf0b9805ef331e85443360"
   },
   "source": [
    "- put it together"
   ]
  },
  {
   "cell_type": "code",
   "execution_count": 59,
   "metadata": {
    "_uuid": "d3231b850835ae2a14a76210a52181dbe169734d"
   },
   "outputs": [],
   "source": [
    "from tqdm import tqdm"
   ]
  },
  {
   "cell_type": "code",
   "execution_count": 60,
   "metadata": {
    "_uuid": "72951698b0a229289bea4d4b75d33c0e4472d1cd"
   },
   "outputs": [
    {
     "name": "stderr",
     "output_type": "stream",
     "text": [
      "100%|██████████| 92/92 [03:18<00:00,  2.42s/it]\n"
     ]
    }
   ],
   "source": [
    "scores = []\n",
    "for i in tqdm(range(len(val_list)//10)):\n",
    "    temp_list = val_list[i*10:(i+1)*10]\n",
    "    val_img, val_mask = create_data(temp_list)\n",
    "    pred_mask = model.predict(val_img)\n",
    "    F2 = calc_score_all_image(val_mask, pred_mask, threshold=0.5)*10\n",
    "    scores.append(F2)\n",
    "val_F2 = np.sum(scores)/(len(val_list)//10 *10)"
   ]
  },
  {
   "cell_type": "code",
   "execution_count": 61,
   "metadata": {
    "_uuid": "4f5013f4d9a8ef5287a71cf2937c8eda35b144b0"
   },
   "outputs": [
    {
     "name": "stdout",
     "output_type": "stream",
     "text": [
      "[0.]\n",
      "[0.]\n",
      "[0. 1.]\n",
      "[0. 1.]\n",
      "[0. 1.]\n",
      "[0.]\n",
      "[0. 1.]\n",
      "[0. 1.]\n",
      "[0. 1.]\n",
      "[0.]\n"
     ]
    }
   ],
   "source": [
    "for mask in val_mask:\n",
    "    print(np.unique(mask))"
   ]
  },
  {
   "cell_type": "code",
   "execution_count": 73,
   "metadata": {
    "_uuid": "001038a5b1d933e120d37bda244aaf869e65da7d"
   },
   "outputs": [
    {
     "data": {
      "text/plain": [
       "(10, 768, 768, 1)"
      ]
     },
     "execution_count": 73,
     "metadata": {},
     "output_type": "execute_result"
    }
   ],
   "source": [
    "pred_mask[8].reshape(768,768)"
   ]
  },
  {
   "cell_type": "code",
   "execution_count": 70,
   "metadata": {
    "_uuid": "5fac292ef4b4d308927be9754501215ba5f8ba6e"
   },
   "outputs": [
    {
     "data": {
      "text/plain": [
       "array([0., 1.])"
      ]
     },
     "execution_count": 70,
     "metadata": {},
     "output_type": "execute_result"
    }
   ],
   "source": [
    "np.unique(val_mask[8])"
   ]
  },
  {
   "cell_type": "code",
   "execution_count": 101,
   "metadata": {
    "_uuid": "965121120e8842a024d33551752741a426a77fae"
   },
   "outputs": [
    {
     "data": {
      "image/png": "[encoded data removed]",
      "text/plain": [
       "<Figure size 1500x4500 with 3 Axes>"
      ]
     },
     "metadata": {
      "needs_background": "light"
     },
     "output_type": "display_data"
    }
   ],
   "source": [
    "def plot_prediction(ax,img,name):\n",
    "    im = ax.imshow(img.reshape(768,768), cmap='jet')\n",
    "    ax.axis('off')\n",
    "    ax.set_title(name)\n",
    "    return im\n",
    "figure = plt.figure(figsize=(10,30),dpi=150)\n",
    "ax1 = figure.add_subplot(1,3,1)\n",
    "im1 = plot_prediction(ax1, val_mask[8], \"Ground truth\")\n",
    "ax2 = figure.add_subplot(1,3,2)\n",
    "im2 = plot_prediction(ax2, pred_mask[8], \"Raw predict\")\n",
    "ax3 = figure.add_subplot(1,3,3)\n",
    "im3 = plot_prediction(ax3, (pred_mask[8]>0.4), \"After threshold\")\n",
    "figure.colorbar(im2, cax=ax3)\n",
    "plt.show()"
   ]
  },
  {
   "cell_type": "code",
   "execution_count": 65,
   "metadata": {
    "_uuid": "7d1d67507b195f5b08076e8f283a49cf0c5767f1"
   },
   "outputs": [
    {
     "data": {
      "text/plain": [
       "<matplotlib.image.AxesImage at 0x7f47af495a90>"
      ]
     },
     "execution_count": 65,
     "metadata": {},
     "output_type": "execute_result"
    },
    {
     "data": {
      "image/png": "[encoded data removed]",
      "text/plain": [
       "<Figure size 432x288 with 1 Axes>"
      ]
     },
     "metadata": {
      "needs_background": "light"
     },
     "output_type": "display_data"
    },
    {
     "data": {
      "image/png": "[encoded data removed]",
      "text/plain": [
       "<Figure size 432x288 with 1 Axes>"
      ]
     },
     "metadata": {
      "needs_background": "light"
     },
     "output_type": "display_data"
    }
   ],
   "source": [
    "msk = pred_mask[2].reshape(768,768)\n",
    "plt.figure()\n",
    "plt.imshow(msk>0.5,cmap='jet')\n",
    "plt.figure()\n",
    "plt.imshow(val_mask[2].reshape(768,768))"
   ]
  },
  {
   "cell_type": "code",
   "execution_count": 66,
   "metadata": {
    "_uuid": "8e932e8cca25befcba056b9481083e077ba50e96"
   },
   "outputs": [
    {
     "data": {
      "text/plain": [
       "0.4819852498846222"
      ]
     },
     "execution_count": 66,
     "metadata": {},
     "output_type": "execute_result"
    }
   ],
   "source": [
    "val_F2"
   ]
  },
  {
   "cell_type": "markdown",
   "metadata": {
    "_uuid": "347084c09bb0c85401e796eb7f58f9e2e73b52ed"
   },
   "source": [
    "# predict test set and submission"
   ]
  },
  {
   "cell_type": "code",
   "execution_count": null,
   "metadata": {
    "_uuid": "6c77b88803cd0ff553588acdf47ff3bf7dced6ec"
   },
   "outputs": [],
   "source": [
    "test_img_names = [x.split('.')[0] for x in os.listdir(test_img_dir)]"
   ]
  },
  {
   "cell_type": "code",
   "execution_count": null,
   "metadata": {
    "_uuid": "00b7a9bf178d640309c3b78a50e9fc3b5292cfd8"
   },
   "outputs": [],
   "source": [
    "def mask_to_rle(mask):\n",
    "    mask_flat = mask.flatten('F')\n",
    "    flag = 0\n",
    "    rle_list = list()\n",
    "    for i in range(mask_flat.shape[0]):\n",
    "        if flag == 0:\n",
    "            if mask_flat[i] == 1:\n",
    "                flag = 1\n",
    "                starts = i+1\n",
    "                rle_list.append(starts)\n",
    "        else:\n",
    "            if mask_flat[i] == 0:\n",
    "                flag = 0\n",
    "                ends = i\n",
    "                rle_list.append(ends-starts+1)\n",
    "    if flag == 1:\n",
    "        ends = mask_flat.shape[0]\n",
    "        rle_list.append(ends-starts+1)\n",
    "    #sanity check\n",
    "    if len(rle_list) % 2 != 0:\n",
    "        print('NG')\n",
    "    if len(rle_list) == 0:\n",
    "        rle = np.nan\n",
    "    else:\n",
    "        rle = ' '.join(map(str,rle_list))\n",
    "    return rle"
   ]
  },
  {
   "cell_type": "code",
   "execution_count": null,
   "metadata": {
    "_uuid": "54351a1b36d410d1263778ac94e15e527e5aa0d5"
   },
   "outputs": [],
   "source": [
    "def multi_mask_to_rle(mask):\n",
    "    masks = label(mask[0,:,:,0])\n",
    "    return [mask_to_rle(masks==k) for k in np.unique(masks[masks>0])]"
   ]
  },
  {
   "cell_type": "code",
   "execution_count": null,
   "metadata": {
    "_uuid": "d8ac7055cbc02dd4d66c623809cb55777c1e1950",
    "scrolled": true
   },
   "outputs": [],
   "source": [
    "pred_rows = []\n",
    "for name in tqdm(test_img_names):\n",
    "    test_img = imread(test_img_dir + name + '.jpg')\n",
    "    test_img = np.mean(test_img, axis=2, keepdims=True)\n",
    "    test_img = test_img.reshape(1,768,768,1)/255.0\n",
    "    pred_prob = model.predict(test_img)\n",
    "    pred_mask = pred_prob > 0.5\n",
    "    rles = multi_mask_to_rle(pred_mask)\n",
    "    if len(rles)>0:\n",
    "        for rle in rles:\n",
    "            pred_rows += [{'ImageId': name + '.jpg', 'EncodedPixels': rle}]\n",
    "    else:\n",
    "        pred_rows += [{'ImageId': name + '.jpg', 'EncodedPixels': None}]"
   ]
  },
  {
   "cell_type": "code",
   "execution_count": null,
   "metadata": {
    "_uuid": "c8a40b3b7c50419be4e03f3ee3dec296977165aa"
   },
   "outputs": [],
   "source": [
    "submission_df = pd.DataFrame(pred_rows)[['ImageId', 'EncodedPixels']]\n",
    "submission_df.to_csv('submission.csv', index=False)"
   ]
  }
 ],
 "metadata": {
  "kernelspec": {
   "display_name": "Python 3",
   "language": "python",
   "name": "python3"
  },
  "language_info": {
   "codemirror_mode": {
    "name": "ipython",
    "version": 3
   },
   "file_extension": ".py",
   "mimetype": "text/x-python",
   "name": "python",
   "nbconvert_exporter": "python",
   "pygments_lexer": "ipython3",
   "version": "3.6.6"
  }
 },
 "nbformat": 4,
 "nbformat_minor": 1
}
